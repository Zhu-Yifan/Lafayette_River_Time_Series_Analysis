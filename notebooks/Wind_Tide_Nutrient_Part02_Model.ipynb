{
 "cells": [
  {
   "cell_type": "markdown",
   "source": [
    "# Model building"
   ],
   "metadata": {
    "collapsed": false
   }
  },
  {
   "cell_type": "markdown",
   "source": [
    "(1) It might be difficult to find a regression relationship to link nutrient pulses event with wind speed or tidal height because nutrients pulses were not proportional to those parameters, i.e., large pulses or small pulses occur randomly.\n",
    "\n",
    "(2) Classification matrix approach might be better. For example, combining wind, precipitation, net water volume fluxes as matrix, then try yes or no\n",
    "\n",
    "(3) Prepare a table that has bottom nutrient as a target, append with all the associated parameters, including the time, water level, water volume fluxes,wind speed, wind_direction, accumulated wind speed during that 1-3 days window.\n",
    "\n",
    "To do list:\n",
    "* Extract the discrete sampling time from YSI profile (VP_NYCC2020) and then go to Mooring (find the Total_Depth_NY_2020, and Depth_YSI_corrected_NY_2020) and extract water depths associated to the sampling time\n",
    "* Extract the wind speed and direction at the discrete sampling time\n",
    "* Extract the water volume fluxes at the discrete sampling time\n",
    "* Extract 1-day window, 2-days window, 3-day window for all the parameters listed above\n",
    "* Extract the maximum water depth and minimum water depth during that 1-/2-/3-days window\n",
    "* Extract the maximum water fluxes and minimum water fluxes during that 1-/2-/3-days window\n",
    "* Calculate the accumulated fluxes, accumulated wind speed, and accumulated wind direction during that 1-/2-/3-/days window"
   ],
   "metadata": {
    "collapsed": false
   }
  },
  {
   "cell_type": "markdown",
   "source": [
    "### Examining hydrostatic pressure based on net fluxes between Elizabeth River and Lafayette river\n",
    "\n",
    "（1） Check tidal fluxes when nutrient pulses occur, and check the net water volume fluxes during that three days window, see if more fluxes go out, (if more water leaving the system, then hydrostatic pressure between sediment and water was alleviated, might induce more nutrients released from the sediment)\n",
    "\n",
    "（2） Check the tide height during that nutrient pulses, see if it is more build up or leaving more during nutrient pulses events (this is eventually again fluxes)\n",
    "\n"
   ],
   "metadata": {
    "collapsed": false
   }
  },
  {
   "cell_type": "code",
   "execution_count": 1,
   "outputs": [],
   "source": [
    "import numpy as np\n",
    "import pandas as pd\n",
    "import matplotlib.pyplot as plt"
   ],
   "metadata": {
    "collapsed": false
   }
  },
  {
   "cell_type": "markdown",
   "source": [
    "### Import the table"
   ],
   "metadata": {
    "collapsed": false
   }
  },
  {
   "cell_type": "code",
   "execution_count": null,
   "outputs": [],
   "source": [],
   "metadata": {
    "collapsed": false
   }
  },
  {
   "cell_type": "code",
   "execution_count": null,
   "outputs": [],
   "source": [],
   "metadata": {
    "collapsed": false
   }
  }
 ],
 "metadata": {
  "kernelspec": {
   "display_name": "Python 3",
   "language": "python",
   "name": "python3"
  },
  "language_info": {
   "codemirror_mode": {
    "name": "ipython",
    "version": 2
   },
   "file_extension": ".py",
   "mimetype": "text/x-python",
   "name": "python",
   "nbconvert_exporter": "python",
   "pygments_lexer": "ipython2",
   "version": "2.7.6"
  }
 },
 "nbformat": 4,
 "nbformat_minor": 0
}
